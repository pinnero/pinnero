{
  "nbformat": 4,
  "nbformat_minor": 0,
  "metadata": {
    "colab": {
      "provenance": [],
      "gpuType": "T4",
      "include_colab_link": true
    },
    "kernelspec": {
      "name": "python3",
      "display_name": "Python 3"
    },
    "language_info": {
      "name": "python"
    },
    "accelerator": "GPU"
  },
  "cells": [
    {
      "cell_type": "markdown",
      "metadata": {
        "id": "view-in-github",
        "colab_type": "text"
      },
      "source": [
        "<a href=\"https://colab.research.google.com/github/pinnero/pinnero/blob/main/Binary_Combined_Network.ipynb\" target=\"_parent\"><img src=\"https://colab.research.google.com/assets/colab-badge.svg\" alt=\"Open In Colab\"/></a>"
      ]
    },
    {
      "cell_type": "code",
      "execution_count": 1,
      "metadata": {
        "colab": {
          "base_uri": "https://localhost:8080/"
        },
        "id": "V7a9nRW16eZc",
        "outputId": "98196624-ba44-48ac-fe92-d2922403aacf"
      },
      "outputs": [
        {
          "output_type": "stream",
          "name": "stdout",
          "text": [
            "Mounted at /content/drive\n"
          ]
        },
        {
          "output_type": "stream",
          "name": "stderr",
          "text": [
            "/usr/local/lib/python3.10/dist-packages/torch/utils/data/dataloader.py:560: UserWarning: This DataLoader will create 4 worker processes in total. Our suggested max number of worker in current system is 2, which is smaller than what this DataLoader is going to create. Please be aware that excessive worker creation might get DataLoader running slow or even freeze, lower the worker number to avoid potential slowness/freeze if necessary.\n",
            "  warnings.warn(_create_warning_msg(\n"
          ]
        }
      ],
      "source": [
        "import torch\n",
        "import torch.nn as nn\n",
        "import torch.optim as optim\n",
        "import torchvision.transforms as transforms\n",
        "from torchvision.datasets import ImageFolder\n",
        "from torch.utils.data import DataLoader\n",
        "from torch.utils.data.dataset import random_split\n",
        "import torchvision.models as models\n",
        "import matplotlib.pyplot as plt\n",
        "\n",
        "from google.colab import drive\n",
        "drive.mount('/content/drive')\n",
        "\n",
        "# Check if GPU is available\n",
        "device = torch.device(\"cuda\" if torch.cuda.is_available() else \"cpu\")\n",
        "\n",
        "# Define data transformations\n",
        "transform = transforms.Compose([\n",
        "    transforms.RandomResizedCrop(224),\n",
        "    transforms.RandomHorizontalFlip(),\n",
        "    transforms.ToTensor(),\n",
        "    transforms.Normalize((0.485, 0.456, 0.406), (0.229, 0.224, 0.225)),\n",
        "])\n",
        "\n",
        "# Update the paths to your data in Google Drive\n",
        "drive_root = '/content/drive/MyDrive'  # Root directory of your Google Drive\n",
        "data_path = f\"{drive_root}/labeled_images\"  # Update this path\n",
        "\n",
        "# Load dataset and apply transformations\n",
        "dataset = ImageFolder(root=data_path, transform=transform)\n",
        "\n",
        "# Split dataset into training and validation sets\n",
        "train_size = int(0.8 * len(dataset))\n",
        "val_size = len(dataset) - train_size\n",
        "train_dataset, val_dataset = random_split(dataset, [train_size, val_size])\n",
        "\n",
        "# Create data loaders for training and validation\n",
        "batch_size = 32\n",
        "train_loader = DataLoader(train_dataset, batch_size=batch_size, shuffle=True, num_workers=4)\n",
        "val_loader = DataLoader(val_dataset, batch_size=batch_size, shuffle=False, num_workers=4)"
      ]
    },
    {
      "cell_type": "code",
      "source": [
        "\n",
        "class BinaryStyleNetwork(nn.Module):\n",
        "    def __init__(self, style_num, num_classes=2):\n",
        "        super(BinaryStyleNetwork, self).__init__()\n",
        "        self.resnet = models.resnet18(pretrained=True)\n",
        "\n",
        "        # Freeze all layers except the last one\n",
        "        for param in self.resnet.parameters():\n",
        "            param.requires_grad = False\n",
        "\n",
        "        self.resnet.fc = nn.Linear(self.resnet.fc.in_features, num_classes)\n",
        "        self.style_num = style_num\n",
        "\n",
        "    def forward(self, x):\n",
        "        x = self.resnet(x)\n",
        "        return x\n",
        "class CombinedStyleNetwork(nn.Module):\n",
        "    def __init__(self, num_classes=4):\n",
        "        super(CombinedStyleNetwork, self).__init__()\n",
        "        self.style1_network = BinaryStyleNetwork(style_num=1)\n",
        "        self.style2_network = BinaryStyleNetwork(style_num=2)\n",
        "        self.style3_network = BinaryStyleNetwork(style_num=3)\n",
        "\n",
        "    def forward(self, x):\n",
        "        style1_scores = self.style1_network(x)\n",
        "        style2_scores = self.style2_network(x)\n",
        "        style3_scores = self.style3_network(x)\n",
        "\n",
        "        # Combine the scores to classify style 4\n",
        "        style4_scores = 0.6*style2_scores+0.6*style3_scores+0.1*style1_scores\n",
        "        combined_scores = torch.cat((style1_scores, style2_scores, style3_scores, style4_scores), dim=1)\n",
        "        return combined_scores\n",
        "\n",
        "\n",
        "# Initialize the combined network\n",
        "combined_network = CombinedStyleNetwork().to(device)\n",
        "# Define loss function and optimizer\n",
        "criterion = nn.CrossEntropyLoss()\n",
        "optimizer = optim.Adam(combined_network.parameters(), lr=0.001)"
      ],
      "metadata": {
        "id": "OJg-TDmN6kiv"
      },
      "execution_count": 5,
      "outputs": []
    },
    {
      "cell_type": "code",
      "source": [
        "\n",
        "import matplotlib.pyplot as plt\n",
        "\n",
        "# Lists to store accuracy values per epoch\n",
        "val_accuracy_history = []\n",
        "style_correct = {0: 0, 1: 0, 2: 0, 3: 0}\n",
        "style_total = {0: 0, 1: 0, 2: 0, 3: 0}\n",
        "# Training loop\n",
        "num_epochs = 10\n",
        "\n",
        "for epoch in range(num_epochs):\n",
        "    combined_network.train()\n",
        "    for images, labels in train_loader:\n",
        "        images, labels = images.to(device), labels.to(device)\n",
        "\n",
        "        # Forward pass\n",
        "        outputs = combined_network(images)\n",
        "        loss = criterion(outputs, labels)\n",
        "\n",
        "        # Backward pass and optimization\n",
        "        optimizer.zero_grad()\n",
        "        loss.backward()\n",
        "        optimizer.step()\n",
        "\n",
        "    # Validation after each epoch\n",
        "    combined_network.eval()\n",
        "    val_loss = 0.0\n",
        "    correct = 0\n",
        "\n",
        "    with torch.no_grad():\n",
        "        for images, labels in val_loader:\n",
        "            images, labels = images.to(device), labels.to(device)\n",
        "\n",
        "            # Forward pass and compute loss\n",
        "            outputs = combined_network(images)\n",
        "            val_loss += criterion(outputs, labels).item()\n",
        "\n",
        "            # Count correct predictions\n",
        "            _, predicted = torch.max(outputs.data, 1)\n",
        "            correct += (predicted == labels).sum().item()\n",
        "\n",
        "            # Count mistakes per style\n",
        "            for i in range(len(labels)):\n",
        "                style_total[labels[i].item()] += 1\n",
        "                if predicted[i] == labels[i]:\n",
        "                    style_correct[labels[i].item()] += 1\n",
        "\n",
        "\n",
        "    val_loss /= len(val_loader)\n",
        "    accuracy = 100.0 * correct / len(val_dataset)\n",
        "\n",
        "    # Append validation accuracy to history\n",
        "    val_accuracy_history.append(accuracy)\n",
        "\n",
        "    print(f\"Epoch [{epoch+1}/{num_epochs}] | Validation Loss: {val_loss:.4f} | Accuracy: {accuracy:.2f}%\")\n",
        "    for style in range(4):\n",
        "      style_acc = 100.0 * style_correct[style] / style_total[style]\n",
        "      print(f\"Style {style}: Accuracy = {style_acc:.2f}%\")\n",
        "\n",
        "# Plot the validation accuracy trends\n",
        "epochs = list(range(1, num_epochs + 1))\n",
        "plt.plot(epochs, val_accuracy_history)\n",
        "plt.xlabel(\"Epochs\")\n",
        "plt.ylabel(\"Validation Accuracy (%)\")\n",
        "plt.title(\"Validation Accuracy per Epoch\")\n",
        "plt.show()\n"
      ],
      "metadata": {
        "colab": {
          "base_uri": "https://localhost:8080/",
          "height": 1000
        },
        "id": "gHNhF7Gp6x3h",
        "outputId": "485f14ad-0327-42ba-d711-d1a9c89ac5cd"
      },
      "execution_count": 7,
      "outputs": [
        {
          "output_type": "stream",
          "name": "stderr",
          "text": [
            "/usr/local/lib/python3.10/dist-packages/torch/utils/data/dataloader.py:560: UserWarning: This DataLoader will create 4 worker processes in total. Our suggested max number of worker in current system is 2, which is smaller than what this DataLoader is going to create. Please be aware that excessive worker creation might get DataLoader running slow or even freeze, lower the worker number to avoid potential slowness/freeze if necessary.\n",
            "  warnings.warn(_create_warning_msg(\n"
          ]
        },
        {
          "output_type": "stream",
          "name": "stdout",
          "text": [
            "Epoch [1/10] | Validation Loss: 1.2303 | Accuracy: 44.07%\n",
            "Style 0: Accuracy = 66.67%\n",
            "Style 1: Accuracy = 66.67%\n",
            "Style 2: Accuracy = 11.76%\n",
            "Style 3: Accuracy = 33.33%\n",
            "Epoch [2/10] | Validation Loss: 1.1570 | Accuracy: 55.93%\n",
            "Style 0: Accuracy = 66.67%\n",
            "Style 1: Accuracy = 66.67%\n",
            "Style 2: Accuracy = 14.71%\n",
            "Style 3: Accuracy = 58.33%\n",
            "Epoch [3/10] | Validation Loss: 1.0526 | Accuracy: 62.71%\n",
            "Style 0: Accuracy = 69.44%\n",
            "Style 1: Accuracy = 68.52%\n",
            "Style 2: Accuracy = 23.53%\n",
            "Style 3: Accuracy = 61.11%\n",
            "Epoch [4/10] | Validation Loss: 1.0375 | Accuracy: 62.71%\n",
            "Style 0: Accuracy = 75.00%\n",
            "Style 1: Accuracy = 68.06%\n",
            "Style 2: Accuracy = 22.06%\n",
            "Style 3: Accuracy = 68.75%\n",
            "Epoch [5/10] | Validation Loss: 1.0834 | Accuracy: 55.93%\n",
            "Style 0: Accuracy = 78.33%\n",
            "Style 1: Accuracy = 66.67%\n",
            "Style 2: Accuracy = 21.18%\n",
            "Style 3: Accuracy = 68.33%\n",
            "Epoch [6/10] | Validation Loss: 0.9931 | Accuracy: 62.71%\n",
            "Style 0: Accuracy = 77.78%\n",
            "Style 1: Accuracy = 69.44%\n",
            "Style 2: Accuracy = 22.55%\n",
            "Style 3: Accuracy = 68.06%\n",
            "Epoch [7/10] | Validation Loss: 1.0334 | Accuracy: 55.93%\n",
            "Style 0: Accuracy = 78.57%\n",
            "Style 1: Accuracy = 65.08%\n",
            "Style 2: Accuracy = 23.53%\n",
            "Style 3: Accuracy = 71.43%\n",
            "Epoch [8/10] | Validation Loss: 1.0140 | Accuracy: 57.63%\n",
            "Style 0: Accuracy = 79.17%\n",
            "Style 1: Accuracy = 65.97%\n",
            "Style 2: Accuracy = 22.06%\n",
            "Style 3: Accuracy = 71.88%\n",
            "Epoch [9/10] | Validation Loss: 0.9368 | Accuracy: 69.49%\n",
            "Style 0: Accuracy = 80.56%\n",
            "Style 1: Accuracy = 66.67%\n",
            "Style 2: Accuracy = 26.14%\n",
            "Style 3: Accuracy = 70.37%\n",
            "Epoch [10/10] | Validation Loss: 0.8593 | Accuracy: 74.58%\n",
            "Style 0: Accuracy = 81.67%\n",
            "Style 1: Accuracy = 67.78%\n",
            "Style 2: Accuracy = 30.00%\n",
            "Style 3: Accuracy = 70.00%\n"
          ]
        },
        {
          "output_type": "display_data",
          "data": {
            "text/plain": [
              "<Figure size 640x480 with 1 Axes>"
            ],
            "image/png": "[encoded data removed]"
          },
          "metadata": {}
        }
      ]
    }
  ]
}