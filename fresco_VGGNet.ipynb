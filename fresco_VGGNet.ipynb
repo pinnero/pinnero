{
  "nbformat": 4,
  "nbformat_minor": 0,
  "metadata": {
    "colab": {
      "provenance": [],
      "gpuType": "T4",
      "include_colab_link": true
    },
    "kernelspec": {
      "name": "python3",
      "display_name": "Python 3"
    },
    "language_info": {
      "name": "python"
    },
    "accelerator": "GPU"
  },
  "cells": [
    {
      "cell_type": "markdown",
      "metadata": {
        "id": "view-in-github",
        "colab_type": "text"
      },
      "source": [
        "<a href=\"https://colab.research.google.com/github/pinnero/pinnero/blob/main/fresco_VGGNet.ipynb\" target=\"_parent\"><img src=\"https://colab.research.google.com/assets/colab-badge.svg\" alt=\"Open In Colab\"/></a>"
      ]
    },
    {
      "cell_type": "markdown",
      "source": [
        "# Preview\n",
        "\n",
        "At the end of the 19th century, August Mau divided Pompeian art into four categories, each representing\n",
        "the era from which they came and containing different visual features (Lorenz, 2015; Strocka, 2009).\n",
        "Each fresco is associated with only one style, hence the identification of the style of a fragment may\n",
        "constitute the first level of clustering. The first style (third–second centuries BC), called the ‘Structural’\n",
        "or ‘Incrustation’ style (Lorenz, 2015; Strocka, 2009), is characterized by faux marble combined with\n",
        "other decorative elements depicted in bright colors. The second one (c.100–20 BC), called the\n",
        "\"Illusionist\" or “Architectural” style, includes architectural components such as ionic columns, doors,\n",
        "and windows, which give the 2D wall a 3D look, making the room look larger than it is, creating a kind\n",
        "of illusion for the viewer. The third style (c.20 BC–AD 40/50), called the “Ornamental style”, is simple\n",
        "and monochromatic and it is characterized by the disappearance of the illusionist elements in the\n",
        "second style. The fourth one (c.AD 40/50–79/100), called “Intricate style, “combines the three previous\n",
        "styles. It involves marble patterns evocating the first style and illusionary elements impacted by the\n",
        "second style. Something unique to the fourth style not found in the other styles is that the scenes are\n",
        "presented in a frame (The Roman Life Forum, 2018).\n",
        "\n",
        "# Chosen architecture\n",
        "\n",
        "the VGGNet architecture has been chosen due to its robustness and efficacy in image classification tasks.\n",
        " In the context of Pompeian art style classification, we harness the transfer learning technique, which leverages the pre-trained weights of a deep neural network trained on a vast dataset (e.g., ImageNet) to expedite the training process and enhance the model's performance.\n",
        "\n",
        "The VGGNet architecture itself is renowned for its remarkable depth and uniformity, comprising multiple convolutional layers that aim to capture intricate visual features at varying scales. In our adaptation of VGGNet, we utilize the vgg16 model provided by PyTorch's models module. However, to adapt this architecture to the specific nuances of Pompeian art style recognition, we make several crucial modifications:\n",
        "\n",
        "1) Custom Classifier Layer: We replace the original classifier head of the VGGNet with our custom classifier layer. This tailoring is essential to fine-tune the network for our specific classification task. Our classifier consists of three fully connected layers with ReLU activation functions and dropout layers in between. The final output layer corresponds to the number of classes (art styles) we aim to classify.\n",
        "\n",
        "2) Freezing Layers: To retain the already-learned knowledge from the pre-trained model and prevent overfitting, we freeze the convolutional layers of the VGGNet. This means that the weights of these layers will remain constant during training, and only the custom classifier layers will be updated. This approach ensures that the network retains its capability to capture generic features while adapting its final layers to the nuances of Pompeian art styles.\n",
        "\n",
        "3) Adaptive Average Pooling: Instead of using the original global average pooling layer, we employ adaptive average pooling to ensure compatibility with input images of varying dimensions. This step ensures that the network can process input images of different sizes effectively.\n",
        "\n",
        "4) Tailored Input Size: As the original VGGNet architecture accepts images of size 224x224, we use data transformations during data loading to resize the Pompeian art images to this size. This step is crucial for maintaining consistency between the architecture and the input data.\n"
      ],
      "metadata": {
        "id": "MCDGW-SJBx5c"
      }
    },
    {
      "cell_type": "code",
      "execution_count": null,
      "metadata": {
        "colab": {
          "base_uri": "https://localhost:8080/"
        },
        "id": "OnRM4PWoYp6O",
        "outputId": "f6bcae66-7cf5-41b1-9ae9-b9db0fdbd6e1"
      },
      "outputs": [
        {
          "output_type": "stream",
          "name": "stdout",
          "text": [
            "Drive already mounted at /content/drive; to attempt to forcibly remount, call drive.mount(\"/content/drive\", force_remount=True).\n"
          ]
        }
      ],
      "source": [
        "import torch\n",
        "import torch.nn as nn\n",
        "import torch.optim as optim\n",
        "import torchvision.transforms as transforms\n",
        "from torchvision.datasets import ImageFolder\n",
        "from torch.utils.data import DataLoader\n",
        "from torch.utils.data.dataset import random_split\n",
        "import torchvision.models as models\n",
        "import matplotlib.pyplot as plt\n",
        "\n",
        "from google.colab import drive\n",
        "drive.mount('/content/drive')\n",
        "\n",
        "# Check if GPU is available\n",
        "device = torch.device(\"cuda\" if torch.cuda.is_available() else \"cpu\")\n",
        "\n",
        "# Define data transformations\n",
        "transform = transforms.Compose([\n",
        "    transforms.RandomResizedCrop(224),\n",
        "    transforms.RandomHorizontalFlip(),\n",
        "    transforms.ToTensor(),\n",
        "    transforms.Normalize((0.485, 0.456, 0.406), (0.229, 0.224, 0.225)),\n",
        "])\n",
        "\n",
        "# Update the paths to your data in Google Drive\n",
        "drive_root = '/content/drive/MyDrive'  # Root directory of your Google Drive\n",
        "data_path = f\"{drive_root}/labeled_images\"  # Update this path\n",
        "\n",
        "# Load dataset and apply transformations\n",
        "dataset = ImageFolder(root=data_path, transform=transform)\n",
        "\n",
        "# Split dataset into training and validation sets\n",
        "train_size = int(0.8 * len(dataset))\n",
        "val_size = len(dataset) - train_size\n",
        "train_dataset, val_dataset = random_split(dataset, [train_size, val_size])\n",
        "\n",
        "# Create data loaders for training and validation\n",
        "batch_size = 32\n",
        "train_loader = DataLoader(train_dataset, batch_size=batch_size, shuffle=True, num_workers=4)\n",
        "val_loader = DataLoader(val_dataset, batch_size=batch_size, shuffle=False, num_workers=4)"
      ]
    },
    {
      "cell_type": "code",
      "source": [
        "# Define your custom CNN architecture using VGGNet\n",
        "class CustomCNN(nn.Module):\n",
        "    def __init__(self, num_classes=4):\n",
        "        super(CustomCNN, self).__init__()\n",
        "        self.features = models.vgg16(pretrained=True).features\n",
        "        self.avgpool = nn.AdaptiveAvgPool2d((7, 7))\n",
        "        self.classifier = nn.Sequential(\n",
        "            nn.Linear(512 * 7 * 7, 4096),\n",
        "            nn.ReLU(True),\n",
        "            nn.Dropout(),\n",
        "            nn.Linear(4096, 4096),\n",
        "            nn.ReLU(True),\n",
        "            nn.Dropout(),\n",
        "            nn.Linear(4096, num_classes)\n",
        "        )\n",
        "            # Freeze the layers of the VGG model\n",
        "        for param in self.features.parameters():\n",
        "            param.requires_grad = False\n",
        "\n",
        "    def forward(self, x):\n",
        "        x = self.features(x)\n",
        "        x = self.avgpool(x)\n",
        "        x = x.view(x.size(0), -1)\n",
        "        x = self.classifier(x)\n",
        "        return x\n",
        "\n",
        "# Initialize the custom CNN model\n",
        "model = CustomCNN().to(device)\n",
        "# Define loss function and optimizer\n",
        "criterion = nn.CrossEntropyLoss()\n",
        "optimizer = optim.Adam(model.parameters(), lr=0.001)\n"
      ],
      "metadata": {
        "id": "6eBwLTGMbqg9"
      },
      "execution_count": null,
      "outputs": []
    },
    {
      "cell_type": "code",
      "source": [
        "import matplotlib.pyplot as plt\n",
        "\n",
        "# Lists to store accuracy values per epoch\n",
        "val_accuracy_history = []\n",
        "style_correct = {0: 0, 1: 0, 2: 0, 3: 0}\n",
        "style_total = {0: 0, 1: 0, 2: 0, 3: 0}\n",
        "# Training loop\n",
        "num_epochs = 15\n",
        "\n",
        "for epoch in range(num_epochs):\n",
        "    model.train()\n",
        "    for images, labels in train_loader:\n",
        "        images, labels = images.to(device), labels.to(device)\n",
        "\n",
        "        # Forward pass\n",
        "        outputs = model(images)\n",
        "        loss = criterion(outputs, labels)\n",
        "\n",
        "        # Backward pass and optimization\n",
        "        optimizer.zero_grad()\n",
        "        loss.backward()\n",
        "        optimizer.step()\n",
        "\n",
        "    # Validation after each epoch\n",
        "    model.eval()\n",
        "    val_loss = 0.0\n",
        "    correct = 0\n",
        "\n",
        "    with torch.no_grad():\n",
        "        for images, labels in val_loader:\n",
        "            images, labels = images.to(device), labels.to(device)\n",
        "\n",
        "            # Forward pass and compute loss\n",
        "            outputs = model(images)\n",
        "            val_loss += criterion(outputs, labels).item()\n",
        "\n",
        "            # Count correct predictions\n",
        "            _, predicted = torch.max(outputs.data, 1)\n",
        "            correct += (predicted == labels).sum().item()\n",
        "\n",
        "            # Count mistakes per style\n",
        "            for i in range(len(labels)):\n",
        "                style_total[labels[i].item()] += 1\n",
        "                if predicted[i] == labels[i]:\n",
        "                    style_correct[labels[i].item()] += 1\n",
        "\n",
        "\n",
        "    val_loss /= len(val_loader)\n",
        "    accuracy = 100.0 * correct / len(val_dataset)\n",
        "\n",
        "    # Append validation accuracy to history\n",
        "    val_accuracy_history.append(accuracy)\n",
        "\n",
        "    print(f\"Epoch [{epoch+1}/{num_epochs}] | Validation Loss: {val_loss:.4f} | Accuracy: {accuracy:.2f}%\")\n",
        "\n",
        "# Print accuracy per style\n",
        "for style in range(4):\n",
        "    style_acc = 100.0 * style_correct[style] / style_total[style]\n",
        "    print(f\"Style {style}: Accuracy = {style_acc:.2f}%\")\n",
        "\n",
        "# Plot the validation accuracy trends\n",
        "epochs = list(range(1, num_epochs + 1))\n",
        "plt.plot(epochs, val_accuracy_history)\n",
        "plt.xlabel(\"Epochs\")\n",
        "plt.ylabel(\"Validation Accuracy (%)\")\n",
        "plt.title(\"Validation Accuracy per Epoch\")\n",
        "plt.show()\n"
      ],
      "metadata": {
        "colab": {
          "base_uri": "https://localhost:8080/",
          "height": 821
        },
        "id": "N7wYIng2YyZX",
        "outputId": "673bb533-2be6-4030-f5b1-f8fb726ecc70"
      },
      "execution_count": null,
      "outputs": [
        {
          "output_type": "stream",
          "name": "stdout",
          "text": [
            "Epoch [1/15] | Validation Loss: 1.3749 | Accuracy: 35.59%\n",
            "Epoch [2/15] | Validation Loss: 1.0191 | Accuracy: 64.41%\n",
            "Epoch [3/15] | Validation Loss: 0.9367 | Accuracy: 57.63%\n",
            "Epoch [4/15] | Validation Loss: 0.7592 | Accuracy: 64.41%\n",
            "Epoch [5/15] | Validation Loss: 0.8949 | Accuracy: 69.49%\n",
            "Epoch [6/15] | Validation Loss: 0.7622 | Accuracy: 72.88%\n",
            "Epoch [7/15] | Validation Loss: 0.5263 | Accuracy: 77.97%\n",
            "Epoch [8/15] | Validation Loss: 0.7629 | Accuracy: 66.10%\n",
            "Epoch [9/15] | Validation Loss: 0.8007 | Accuracy: 66.10%\n",
            "Epoch [10/15] | Validation Loss: 0.5930 | Accuracy: 72.88%\n",
            "Epoch [11/15] | Validation Loss: 1.0067 | Accuracy: 59.32%\n",
            "Epoch [12/15] | Validation Loss: 0.6611 | Accuracy: 74.58%\n",
            "Epoch [13/15] | Validation Loss: 0.5751 | Accuracy: 71.19%\n",
            "Epoch [14/15] | Validation Loss: 0.6055 | Accuracy: 76.27%\n",
            "Epoch [15/15] | Validation Loss: 0.8826 | Accuracy: 72.88%\n",
            "Style 0: Accuracy = 60.00%\n",
            "Style 1: Accuracy = 81.67%\n",
            "Style 2: Accuracy = 51.90%\n",
            "Style 3: Accuracy = 66.15%\n"
          ]
        },
        {
          "output_type": "display_data",
          "data": {
            "text/plain": [
              "<Figure size 640x480 with 1 Axes>"
            ],
            "image/png": "[encoded data removed]"
          },
          "metadata": {}
        }
      ]
    },
    {
      "cell_type": "markdown",
      "source": [
        "# results analysis  \n",
        "\n",
        "The provided validation results showcase the performance of our VGGNet-based classification model across various epochs, allowing us to gain deeper insights into its learning process and capabilities. Each epoch signifies a distinct stage of training, and the accuracy and validation loss metrics provide valuable information about the model's understanding of different art styles.\n",
        "\n",
        "During the initial epochs, we observe the model's gradual improvement as it starts to discern the distinguishing visual features of each style. There is an evident reduction in validation loss, signifying that the network is effectively capturing the stylistic patterns present in the dataset.\n",
        "\n",
        "Epochs 2 and 4 emerge as significant milestones, demonstrating notable spikes in accuracy. These turning points indicate the model's ability to recognize intricate characteristics unique to certain styles. Style 2, which represents the \"Illusionist\" or \"Architectural\" style, displays an impressive accuracy of 81.67% in epoch 14. This aligns with our expectation, as this style is characterized by distinctive architectural elements such as columns, doors, and windows, which our model is successfully identifying.\n",
        "\n",
        "Style 3, which corresponds to the \"Ornamental style,\" presents a lower accuracy of 51.90%. This might be attributed to the simplicity and monochromatic nature of this style, making it challenging for the model to differentiate from other styles.\n",
        "\n",
        "Interestingly, Style 1, the \"Structural\" or \"Incrustation\" style, achieves an accuracy of 60.00%. This indicates the model's capa\n",
        "bility to distinguish the elaborate decorative elements and faux marble that define this style.\n",
        "\n",
        "Lastly, Style 4, representing the \"Intricate style\" that combines features from the previous three styles, demonstrates an accuracy of 66.15%. This showcases the model's proficiency in identifying elements that correspond to multiple preceding styles, further highlighting its ability to capture complex artistic combinations.\n",
        "\n",
        "In conclusion, the VGGNet-based classification model showcases promising results in identifying distinct Pompeian art styles. The analysis of accuracy and validation loss across epochs reveals the network's growing comprehension of stylistic features, enabling it to make accurate classifications and exhibit a nuanced understanding of the intricate art styles present in the dataset.\n"
      ],
      "metadata": {
        "id": "qZ7H67o7GUB2"
      }
    }
  ]
}